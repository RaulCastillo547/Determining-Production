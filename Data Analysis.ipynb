{
 "cells": [
  {
   "attachments": {},
   "cell_type": "markdown",
   "metadata": {},
   "source": [
    "# Data Analysis\n",
    "\n",
    "This jupyter notebook demonstrates different ways the Market() class can simulate supplier behaviors. Three topics will be covered:\n",
    "- How cost affects quantity supplied and revenue\n",
    "- How competition affects quantity supplied and revenue\n",
    "- How shifts in demand affect the quantity supplied and revenue\n",
    "---\n",
    "\n",
    "## 1. Imports\n",
    "\n",
    "The project uses two 3rd party packages and the class defined in the `sessionmaker.py` file:\n",
    "- Matplotlib: Package that creates visuals for data\n",
    "- Numpy: Package that defines the `ndarray` class, which makes list arithmetic easier\n",
    "- Market: Class defined in `sessionmaker.py` that defines a market with certain companies with different cost equations and customers with diffent needs"
   ]
  },
  {
   "cell_type": "code",
   "execution_count": 1,
   "metadata": {},
   "outputs": [],
   "source": [
    "from matplotlib import pyplot as plt\n",
    "import numpy as np\n",
    "from sessionmaker import Market"
   ]
  },
  {
   "attachments": {},
   "cell_type": "markdown",
   "metadata": {},
   "source": [
    "## 2. Change in Cost\n",
    "\n",
    "Describe Current Research\n",
    "\n",
    "Plan: Create 3 scenarios and show the quantity and revenues\n"
   ]
  },
  {
   "cell_type": "code",
   "execution_count": 22,
   "metadata": {},
   "outputs": [
    {
     "name": "stdout",
     "output_type": "stream",
     "text": [
      "Quantity: [2, 3, 2, 3, 4, 5, 4, 3, 4, 5, 6, 5, 6, 7, 8, 9, 10, 11, 12, 11, 12, 13, 12, 11, 12, 13, 14, 13, 12, 13, 12, 11, 10, 9, 10, 11, 10, 9, 10, 11, 10, 9, 10, 9, 10, 11, 12, 13, 14, 15, 14, 13, 12, 13, 14, 15, 16, 15, 14, 15, 16, 15, 14, 15, 14, 13, 12, 13, 14, 15, 14, 15, 14, 15, 16, 15, 16, 17, 16, 15, 16, 17, 16, 15, 16, 17, 18, 17, 16, 17, 18, 19, 18, 17, 16, 17, 18, 19, 18, 19]\n",
      "Profits: [475, 670, 620, 185, 490, 1125, 1025, 1170, 225, 795, 1495, 1340, 1275, 1320, 1730, 1830, 1870, 2955, 3290, 2495, 1665, 3335, 3085, 3155, 1950, 1970, 3140, 2640, 3435, 2700, 2135, 2250, 2785, 2875, 1640, 2770, 2330, 2830, 2135, 2365, 2300, 2910, 2650, 2265, 2255, 2275, 2545, 3405, 3485, 3840, 3100, 3875, 4205, 2785, 2865, 4145, 4365, 3595, 4355, 3510, 3875, 3280, 4020, 3865, 3495, 3995, 4005, 2275, 2700, 3605, 3520, 3380, 3220, 2965, 4695, 3960, 3725, 4140, 3325, 5380, 3740, 4050, 3155, 5060, 3190, 3300, 4015, 4000, 5035, 3865, 4755, 4830, 3850, 4230, 4520, 3020, 4300, 4730, 4705, 3865]\n",
      "Prices: [5.0, 5.0, 5.0, 5.0, 5.0, 5.0, 5.0, 5.0, 5.0, 5.0, 5.0, 5.0, 5.0, 5.0, 5.0, 5.0, 5.0, 5.0, 5.0, 5.0, 5.0, 5.0, 5.0, 5.0, 5.0, 5.0, 5.0, 5.0, 5.0, 5.0, 5.0, 5.0, 5.0, 5.0, 5.0, 5.0, 5.0, 5.0, 5.0, 5.0, 5.0, 5.0, 5.0, 5.0, 5.0, 5.0, 5.0, 5.0, 5.0, 5.0, 5.0, 5.0, 5.0, 5.0, 5.0, 5.0, 5.0, 5.0, 5.0, 5.0, 5.0, 5.0, 5.0, 5.0, 5.0, 5.0, 5.0, 5.0, 5.0, 5.0, 5.0, 5.0, 5.0, 5.0, 5.0, 5.0, 5.0, 5.0, 5.0, 5.0, 5.0, 5.0, 5.0, 5.0, 5.0, 5.0, 5.0, 5.0, 5.0, 5.0, 5.0, 5.0, 5.0, 5.0, 5.0, 5.0, 5.0, 5.0, 5.0, 5.0]\n",
      "Buyers [500 495 490 485 480 475 470 465 460 455 450 445 440 435 430 425 420 415\n",
      " 410 405 400 395 390 385 380 375 370 365 360 355 350 345 340 335 330 325\n",
      " 320 315 310 305 300 295 290 285 280 275 270 265 260 255 250 245 240 235\n",
      " 230 225 220 215 210 205 200 195 190 185 180 175 170 165 160 155 150 145\n",
      " 140 135 130 125 120 115 110 105 100  95  90  85  80  75  70  65  60  55\n",
      "  50  45  40  35  30  25  20  15  10   5]\n"
     ]
    },
    {
     "data": {
      "image/png": "[encoded data removed]",
      "text/plain": [
       "<Figure size 360x720 with 3 Axes>"
      ]
     },
     "metadata": {
      "needs_background": "light"
     },
     "output_type": "display_data"
    }
   ],
   "source": [
    "# Defining Market\n",
    "m1 = Market()\n",
    "m1.add_buyers(list(np.arange(1, 101)*5))\n",
    "m1.add_seller('Company 1', lambda x: 5*x)\n",
    "\n",
    "# Data extraction:\n",
    "quantity_sold = []\n",
    "profits = []\n",
    "price_per_item = []\n",
    "\n",
    "for i in range(100):\n",
    "    m1.session()\n",
    "    data = m1.sellers['Company 1']\n",
    "    quantity_sold.append(data['Quantity'])\n",
    "    profits.append(data['Previous Profit'])\n",
    "    price_per_item.append(data['Costs'](data['Quantity'])/data['Quantity'])\n",
    "\n",
    "buyer_prices = np.array(sorted(m1.buyer_prices)[::-1])\n",
    "buyer_quantities = []\n",
    "\n",
    "print(f'Quantity: {quantity_sold}')\n",
    "print(f'Profits: {profits}')\n",
    "print(f'Prices: {price_per_item}')\n",
    "print(f'Buyers {buyer_prices}\\n{buyer_quantities}')\n",
    "\n",
    "# Graph Definitions: Line graph showing supplyand demand, graph with average profits at different quantities, and graph with average quantities produced\n",
    "fig, (ax1, ax2, ax3) = plt.subplots(3, 1, height_ratios=[10, 10, 10])\n",
    "fig.set_figwidth(5)\n",
    "fig.set_figheight(10)\n",
    "\n",
    "## Supply and Demand\n",
    "# Supply line\n",
    "\n",
    "plt.show()"
   ]
  }
 ],
 "metadata": {
  "kernelspec": {
   "display_name": "Python 3",
   "language": "python",
   "name": "python3"
  },
  "language_info": {
   "codemirror_mode": {
    "name": "ipython",
    "version": 3
   },
   "file_extension": ".py",
   "mimetype": "text/x-python",
   "name": "python",
   "nbconvert_exporter": "python",
   "pygments_lexer": "ipython3",
   "version": "3.10.4"
  },
  "orig_nbformat": 4
 },
 "nbformat": 4,
 "nbformat_minor": 2
}
