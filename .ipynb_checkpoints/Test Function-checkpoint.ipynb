{
 "cells": [
  {
   "cell_type": "code",
   "execution_count": 1,
   "id": "613c5522",
   "metadata": {},
   "outputs": [],
   "source": [
    "import numpy as np\n",
    "from matplotlib import pyplot as plt\n",
    "from sessionmaker import Market"
   ]
  },
  {
   "cell_type": "code",
   "execution_count": 3,
   "id": "2283a965",
   "metadata": {},
   "outputs": [
    {
     "name": "stdout",
     "output_type": "stream",
     "text": [
      "{'Company 1': {'Quantity Sold': [], 'Price per Item': [], 'Profits': {}}, 'Company 2': {'Quantity Sold': [], 'Price per Item': [], 'Profits': {}}, 'Company 3': {'Quantity Sold': [], 'Price per Item': [], 'Profits': {}}}\n"
     ]
    }
   ],
   "source": [
    "def competition_experiment(market_class):\n",
    "    # Data extraction for each company:\n",
    "    market_data = {}\n",
    "    for seller in market_class.sellers:\n",
    "        market_data.update({seller: {'Quantity Sold': [], 'Price per Item': [], 'Profits': {}}})\n",
    "    \n",
    "    # Profit Simplification\n",
    "    competitors = market_data.keys()\n",
    "    \n",
    "    for i in range(10000):\n",
    "        for seller in competitors:\n",
    "            instance_data = m1.sellers[seller]\n",
    "            current_quantity = instance_data['Quantity']\n",
    "            costs = instane_data['Costs']\n",
    "    \n",
    "    # Buyer Prices\n",
    "    \n",
    "    # Suplot Definition\n",
    "    \n",
    "    # Supply and Demand Curve\n",
    "    print(market_data)\n",
    "\n",
    "m1 = Market()\n",
    "m1.add_seller('Company 1', lambda q: 250*q)\n",
    "m1.add_seller('Company 2', lambda q: 250*q)\n",
    "m1.add_seller('Company 3', lambda q: 250*q)\n",
    "competition_experiment(m1)"
   ]
  }
 ],
 "metadata": {
  "kernelspec": {
   "display_name": "Python 3 (ipykernel)",
   "language": "python",
   "name": "python3"
  },
  "language_info": {
   "codemirror_mode": {
    "name": "ipython",
    "version": 3
   },
   "file_extension": ".py",
   "mimetype": "text/x-python",
   "name": "python",
   "nbconvert_exporter": "python",
   "pygments_lexer": "ipython3",
   "version": "3.10.4"
  }
 },
 "nbformat": 4,
 "nbformat_minor": 5
}
